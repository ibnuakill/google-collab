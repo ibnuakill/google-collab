{
 "cells": [
  {
   "cell_type": "code",
   "execution_count": 1,
   "metadata": {},
   "outputs": [
    {
     "name": "stdout",
     "output_type": "stream",
     "text": [
      "2) = bilangan genap\n"
     ]
    }
   ],
   "source": [
    "# Program bilangan_bulat \n",
    "# Dibaca sebuah bilangan bulat dari papan kunci.\n",
    "# Cetak untuk Pesan bilangan genap\n",
    "# Jika bilangan tersebut adalah bilangan genap\n",
    "# Bilangan Genap adalah bilangan yang habis dibagi dengan 2 (sisa=0)\n",
    "\n",
    "bil= 0\n",
    "bil= int (input(\"Masukan bilangan bulat:\"))\n",
    "if bil % 2 == 0:\n",
    "    print(f\"{bil}) = bilangan genap\")\n",
    "else:\n",
    "    print(f\"{bil} = bilangan ganjil\")\n",
    "\n"
   ]
  },
  {
   "cell_type": "code",
   "execution_count": 2,
   "metadata": {},
   "outputs": [
    {
     "name": "stdout",
     "output_type": "stream",
     "text": [
      "(B) adalah bilangan terbesar\n"
     ]
    }
   ],
   "source": [
    "# Progran maksimum_1\n",
    "# Menentukan bilangan terbesar dari dua buah bilangan bulat\n",
    "# Dibaca dua buah bilangan dari piranti masukan\n",
    "# Tentukan dari kedua bilangan itu bilangan yang terbesar\n",
    "\n",
    "A = int(input(\"Masukan Bilangan A:\"))\n",
    "B = int(input(\"Masukan Bilangan B:\"))\n",
    "if A > B :\n",
    "    print(f\"(A) adalah bilangan terbesar\")\n",
    "else:\n",
    "    print(f\"(B) adalah bilangan terbesar\")\n"
   ]
  },
  {
   "cell_type": "code",
   "execution_count": 4,
   "metadata": {},
   "outputs": [
    {
     "name": "stdout",
     "output_type": "stream",
     "text": [
      "bilangan terbesar adalah bilangan C = 15\n"
     ]
    }
   ],
   "source": [
    "# Program Maksumum_2\n",
    "\n",
    "maks=0\n",
    "A=int(input(\"Masukan bilangan A:\"))\n",
    "B=int(input(\"Masukan bilangan B:\"))\n",
    "C=int(input(\"Masukan bilangan C:\"))\n",
    "\n",
    "if A > B:\n",
    "    maks=A\n",
    "    print(f\"bilangan terbesar adalah bilangan A = {maks}\")\n",
    "elif B >= C:\n",
    "    maks=B\n",
    "    print(f\"bilangan terbesar adalah bilangan B = {maks}\")\n",
    "elif C > maks:\n",
    "    maks=C\n",
    "    print(f\"bilangan terbesar adalah bilangan C = {maks}\")\n"
   ]
  },
  {
   "cell_type": "code",
   "execution_count": 5,
   "metadata": {},
   "outputs": [
    {
     "name": "stdout",
     "output_type": "stream",
     "text": [
      "upah karyawan adalah 749760000\n"
     ]
    }
   ],
   "source": [
    "nama_karyawan = input(\"Masukan nama karyawan:\")\n",
    "jumlah_jam_kerja = int(input(\"Jumlah jam kerja:\"))\n",
    "if jumlah_jam_kerja <= 48:\n",
    "    upah = jumlah_jam_kerja*10000\n",
    "else:\n",
    "    upah= 48*10000+ (jumlah_jam_kerja-48) *15000\n",
    "    print(f\"upah karyawan adalah {upah}\")"
   ]
  }
 ],
 "metadata": {
  "kernelspec": {
   "display_name": "Python 3",
   "language": "python",
   "name": "python3"
  },
  "language_info": {
   "codemirror_mode": {
    "name": "ipython",
    "version": 3
   },
   "file_extension": ".py",
   "mimetype": "text/x-python",
   "name": "python",
   "nbconvert_exporter": "python",
   "pygments_lexer": "ipython3",
   "version": "3.11.4"
  }
 },
 "nbformat": 4,
 "nbformat_minor": 2
}
