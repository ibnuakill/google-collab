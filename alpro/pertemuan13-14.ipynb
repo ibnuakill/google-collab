{
 "cells": [
  {
   "cell_type": "code",
   "execution_count": 6,
   "metadata": {},
   "outputs": [
    {
     "name": "stdout",
     "output_type": "stream",
     "text": [
      "jalankan fungsi pada main\n",
      "tgl pinjam : 4, tanggal kembali : 15\n"
     ]
    },
    {
     "ename": "TypeError",
     "evalue": "kondisi() takes 3 positional arguments but 4 were given",
     "output_type": "error",
     "traceback": [
      "\u001b[1;31m---------------------------------------------------------------------------\u001b[0m",
      "\u001b[1;31mTypeError\u001b[0m                                 Traceback (most recent call last)",
      "Cell \u001b[1;32mIn[6], line 23\u001b[0m\n\u001b[0;32m     21\u001b[0m   kondisi(nilai1,nilai2,\u001b[38;5;124m\"\u001b[39m\u001b[38;5;130;01m\\n\u001b[39;00m\u001b[38;5;124m\"\u001b[39m,nilai3)\n\u001b[0;32m     22\u001b[0m \u001b[38;5;28;01mif\u001b[39;00m \u001b[38;5;18m__name__\u001b[39m \u001b[38;5;241m==\u001b[39m \u001b[38;5;124m\"\u001b[39m\u001b[38;5;124m__main__\u001b[39m\u001b[38;5;124m\"\u001b[39m:\n\u001b[1;32m---> 23\u001b[0m     \u001b[43mmain\u001b[49m\u001b[43m(\u001b[49m\u001b[43m)\u001b[49m\n",
      "Cell \u001b[1;32mIn[6], line 21\u001b[0m, in \u001b[0;36mmain\u001b[1;34m()\u001b[0m\n\u001b[0;32m     19\u001b[0m nilai3\u001b[38;5;241m=\u001b[39m\u001b[38;5;28mint\u001b[39m(\u001b[38;5;28minput\u001b[39m(\u001b[38;5;124m'\u001b[39m\u001b[38;5;124mtarif perhari : \u001b[39m\u001b[38;5;124m'\u001b[39m))\n\u001b[0;32m     20\u001b[0m \u001b[38;5;28mprint\u001b[39m(\u001b[38;5;124mf\u001b[39m\u001b[38;5;124m'\u001b[39m\u001b[38;5;124mtgl pinjam : \u001b[39m\u001b[38;5;132;01m{\u001b[39;00mnilai1\u001b[38;5;132;01m}\u001b[39;00m\u001b[38;5;124m, tanggal kembali : \u001b[39m\u001b[38;5;132;01m{\u001b[39;00mnilai2\u001b[38;5;132;01m}\u001b[39;00m\u001b[38;5;124m'\u001b[39m)\n\u001b[1;32m---> 21\u001b[0m \u001b[43mkondisi\u001b[49m\u001b[43m(\u001b[49m\u001b[43mnilai1\u001b[49m\u001b[43m,\u001b[49m\u001b[43mnilai2\u001b[49m\u001b[43m,\u001b[49m\u001b[38;5;124;43m\"\u001b[39;49m\u001b[38;5;130;43;01m\\n\u001b[39;49;00m\u001b[38;5;124;43m\"\u001b[39;49m\u001b[43m,\u001b[49m\u001b[43mnilai3\u001b[49m\u001b[43m)\u001b[49m\n",
      "\u001b[1;31mTypeError\u001b[0m: kondisi() takes 3 positional arguments but 4 were given"
     ]
    }
   ],
   "source": [
    "def kondisi(tanggal_pinjam, tanggal_kembali,tarif_perhari):\n",
    "  tgl=(tanggal_kembali-tanggal_pinjam-7)\n",
    "  hasil=(tanggal_kembali-tanggal_pinjam-7)*2000\n",
    "  total=((tanggal_kembali-tanggal_pinjam-7)*2000+7*5000)\n",
    "\n",
    "  if hasil <= 7:\n",
    "    print(\"tepat waktu, maka anda bebas\")\n",
    "  elif hasil >=7:\n",
    "    print(\"terlambat\",tgl,\"hari, maka anda didenda\",hasil\n",
    "          ,\"total bayar\",total)\n",
    "  else:\n",
    "    print(\"terlambat\",tgl,\"hari, maka anda didenda\",hasil\n",
    "          ,\"total bayar\",total)\n",
    "\n",
    "def main():\n",
    "  print(\"jalankan fungsi pada main\")\n",
    "  nilai1=int(input('tgl pinjaman : '))\n",
    "  nilai2=int(input('tgl kembali : '))\n",
    "  nilai3=int(input('tarif perhari : '))\n",
    "  print(f'tgl pinjam : {nilai1}, tanggal kembali : {nilai2}')\n",
    "  kondisi(nilai1,nilai2,nilai3)\n",
    "if __name__ == \"__main__\":\n",
    "    main()"
   ]
  }
 ],
 "metadata": {
  "kernelspec": {
   "display_name": "Python 3",
   "language": "python",
   "name": "python3"
  },
  "language_info": {
   "codemirror_mode": {
    "name": "ipython",
    "version": 3
   },
   "file_extension": ".py",
   "mimetype": "text/x-python",
   "name": "python",
   "nbconvert_exporter": "python",
   "pygments_lexer": "ipython3",
   "version": "3.11.4"
  }
 },
 "nbformat": 4,
 "nbformat_minor": 2
}
